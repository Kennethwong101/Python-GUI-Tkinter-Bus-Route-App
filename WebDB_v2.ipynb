{
 "cells": [
  {
   "cell_type": "code",
   "execution_count": 22,
   "metadata": {},
   "outputs": [],
   "source": [
    "import tkinter as tk\n",
    "from tkinter.scrolledtext import ScrolledText\n",
    "from bs4 import BeautifulSoup\n",
    "soup = BeautifulSoup(open(\"ROUTE_BUS_E.xml\"))\n",
    "import lxml\n",
    "\n",
    "app=tk.Tk()\n",
    "app.title(\"Welcome to Kenneth's Bus Route Application\")\n",
    "app.geometry('820x630')\n",
    "tk.Label(app,text=\"<< Hong Kong Bus Route Search Engine >>\").place(x=300, y=200)\n",
    "tk.Label(app,text=\"Bus Number: \").place(x=200, y=250)\n",
    "# 1. Welcome Logo\n",
    "canvas=tk.Canvas(app,height=850,width=450)\n",
    "image_file = tk.PhotoImage(file='welcome.gif')\n",
    "image = canvas.create_image(0,0, anchor='nw', image=image_file)\n",
    "canvas.place(x=200, y=50)\n",
    "  \n",
    "# 1. search engine with inputbox & search button \n",
    "tk.Label(app,text=\"<< Hong Kong Bus Route Search Engine >>\").place(x=300, y=200)\n",
    "tk.Label(app,text=\"Bus Number: \").place(x=200, y=250)\n",
    "var_bus_no = tk.StringVar()\n",
    "entry_bus_no = tk.Entry(app, textvariable=var_bus_no)\n",
    "entry_bus_no.place(x=300, y=250)\n",
    "scr=ScrolledText(app, width=100, height=20, wrap=tk.WORD)\n",
    "scr.place(x=50, y=300) \n",
    "\n",
    "var_conversation = tk.StringVar()\n",
    "entry_bus_no = tk.Entry(app, textvariable=var_conversation)\n",
    "entry_bus_no.place(x=300, y=600)\n",
    "\n",
    "\n"
   ]
  },
  {
   "cell_type": "code",
   "execution_count": 23,
   "metadata": {},
   "outputs": [],
   "source": [
    "def AI():\n",
    "    #for n in range(1,11):\n",
    "        #if n==1:\n",
    "        n= \"Hello! I am Super AI. What may I help you?\"\n",
    "        scr.insert(tk.INSERT,\"Super AI: \" + str(n))\n",
    "        scr.insert(tk.END, '\\n')\n",
    "\n",
    "button1 =tk.Button(app, text=\"Super AI\", command=AI)\n",
    "button1.place(x=580, y=250)\n"
   ]
  },
  {
   "cell_type": "code",
   "execution_count": 24,
   "metadata": {},
   "outputs": [],
   "source": [
    "def function():\n",
    "    #no = input(\"Search Key Word: \")\n",
    "    #for elem in soup.find_all(\"route_namee\"):\n",
    "        #if elem.text == var_bus_no.get():\n",
    "            #no = elem.text\n",
    "\n",
    "    #no=var_bus_no.get()\n",
    "    #b = soup.find(lambda tag:tag.name==\"route_namee\" and no in tag.text)\n",
    "    #b.text\n",
    "    num=var_bus_no.get()    \n",
    "\n",
    "##XML descendants\n",
    " \n",
    "    for route in soup.find_all('route'):\n",
    "        for route_namee in route.find_all('route_namee', string=num):\n",
    "            scr.insert(tk.INSERT,\"Bus Number: \" +str(route_namee.text))\n",
    "            scr.insert(tk.END, '\\n')\n",
    "            x = route.find_next(\"company_code\")\n",
    "            for company_code in x.descendants:\n",
    "                scr.insert(tk.INSERT,\"Company Name: \" +str(company_code.string))\n",
    "                scr.insert(tk.END, '\\n')\n",
    "            x = route.find_next(\"journey_time\")\n",
    "            for journey_time in x.descendants:\n",
    "                scr.insert(tk.INSERT,\"Journey Time: \" +str(journey_time.string))\n",
    "                scr.insert(tk.END, '\\n')\n",
    "            x= route.find_next(\"loc_start_namee\")\n",
    "            for loc_start_namee in x.descendants:\n",
    "                scr.insert(tk.INSERT,\"Location Start: \" +str(loc_start_namee.string))\n",
    "                scr.insert(tk.END, '\\n')\n",
    "            x = route.find_next(\"loc_end_namee\")\n",
    "            for loc_end_namee in x.descendants:\n",
    "                scr.insert(tk.INSERT,\"Location End: \" +str(loc_end_namee.string))\n",
    "                scr.insert(tk.END, '\\n')\n",
    "            x = route.find_next(\"full_fare\")\n",
    "            for full_fare in x.descendants:\n",
    "                scr.insert(tk.INSERT,\"Full Fare: \" +str(full_fare.string))\n",
    "                scr.insert(tk.END, '\\n')\n",
    "            x = route.find_next(\"hyperlink_c\")\n",
    "            for hyperlink_c in x.descendants:\n",
    "                scr.insert(tk.INSERT,\"Hyperlink_chi: \" +str(hyperlink_c))\n",
    "                scr.insert(tk.INSERT, '\\n')\n",
    "                scr.insert(tk.END, '\\n')\n",
    "    return \n",
    "\n",
    "    \n",
    "\n",
    "\n",
    "                     "
   ]
  },
  {
   "cell_type": "code",
   "execution_count": 25,
   "metadata": {
    "scrolled": true
   },
   "outputs": [],
   "source": [
    "btn_function = tk.Button(app, text='Search', command=function)\n",
    "btn_function.place(x=500, y=250)\n",
    "                  \n",
    "\n",
    "app.mainloop()"
   ]
  },
  {
   "cell_type": "code",
   "execution_count": null,
   "metadata": {},
   "outputs": [],
   "source": []
  },
  {
   "cell_type": "code",
   "execution_count": null,
   "metadata": {},
   "outputs": [],
   "source": [
    " \n",
    "\n"
   ]
  },
  {
   "cell_type": "code",
   "execution_count": null,
   "metadata": {},
   "outputs": [],
   "source": []
  }
 ],
 "metadata": {
  "kernelspec": {
   "display_name": "Python 3",
   "language": "python",
   "name": "python3"
  },
  "language_info": {
   "codemirror_mode": {
    "name": "ipython",
    "version": 3
   },
   "file_extension": ".py",
   "mimetype": "text/x-python",
   "name": "python",
   "nbconvert_exporter": "python",
   "pygments_lexer": "ipython3",
   "version": "3.7.3"
  }
 },
 "nbformat": 4,
 "nbformat_minor": 2
}
