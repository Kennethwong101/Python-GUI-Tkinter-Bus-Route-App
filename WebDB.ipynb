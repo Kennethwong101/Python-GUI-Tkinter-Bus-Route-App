{
 "cells": [
  {
   "cell_type": "code",
   "execution_count": 7,
   "metadata": {
    "scrolled": true
   },
   "outputs": [
    {
     "data": {
      "text/plain": [
       "''"
      ]
     },
     "execution_count": 7,
     "metadata": {},
     "output_type": "execute_result"
    }
   ],
   "source": [
    "# Multi-frame tkinter Bus_Ruote_Application_v.1.0\n",
    "# Design of Application\n",
    "# 1. Start Page have search engine with inputbox & search button , AI button and Welcome Logo\n",
    "# 1.1. Clear the old result & show more than 1 result\n",
    "# 1.2. AI that user input start location to end location for finding a bus no (e.g 118+102) and return button by using AR mining\n",
    "from bs4 import BeautifulSoup\n",
    "soup = BeautifulSoup(open(\"ROUTE_BUS_E.xml\"))\n",
    "import lxml\n",
    "#soup.contents[0]\n",
    "import tkinter as tk\n",
    "from tkinter import messagebox \n",
    "app =tk.Tk()\n",
    "app.title(\"Welcome to Kenneth's Bus Route Application\")\n",
    "app.geometry('680x630')\n"
   ]
  },
  {
   "cell_type": "code",
   "execution_count": 8,
   "metadata": {},
   "outputs": [],
   "source": [
    "# 1. Welcome Logo\n",
    "canvas=tk.Canvas(app,height=850,width=450)\n",
    "image_file = tk.PhotoImage(file='welcome.gif')\n",
    "image = canvas.create_image(0,0, anchor='nw', image=image_file)\n",
    "canvas.place(x=120, y=50)"
   ]
  },
  {
   "cell_type": "code",
   "execution_count": 9,
   "metadata": {},
   "outputs": [],
   "source": [
    "# 1. search engine with inputbox & search button\n",
    "tk.Label(app,text=\"<< Hong Kong Bus Route Search Engine >>\").place(x=200, y=200)\n",
    "tk.Label(app,text=\"Bus Number: \").place(x=150, y=250)\n",
    "var_bus_no = tk.StringVar()\n",
    "entry_bus_no = tk.Entry(app, textvariable=var_bus_no)\n",
    "entry_bus_no.place(x=250, y=250)\n"
   ]
  },
  {
   "cell_type": "code",
   "execution_count": 10,
   "metadata": {},
   "outputs": [],
   "source": [
    "def function():\n",
    "    #no = input(\"Search Key Word: \")\n",
    "    #for elem in soup.find_all(\"route_namee\"):\n",
    "        #if elem.text == var_bus_no.get():\n",
    "            #no = elem.text\n",
    "\n",
    "    #no=var_bus_no.get()\n",
    "    #b = soup.find(lambda tag:tag.name==\"route_namee\" and no in tag.text)\n",
    "    #b.text\n",
    "    no=var_bus_no.get()    \n",
    "    b = soup.find(lambda tag:tag.name==\"route_namee\" and tag.text==no)\n",
    "\n",
    "    b.text\n",
    "##XML descendants\n",
    "    #for text in b.descendants:\n",
    "        #tk.Label(app,text=\"--------------Result-------------- \").place(x=150, y=290)\n",
    "        #tk.Label(app,text=\"Bus Number1: \").place(x=150, y=300)\n",
    "    for rtext in b.descendants:\n",
    "            tk.Label(app,text=\"--------------Result-------------- \").place(x=150, y=290)\n",
    "            tk.Label(app,text=\"Bus Number: \").place(x=150, y=320)\n",
    "            tk.Label(app,text=rtext).place(x=250, y=320)\n",
    "            c = b.find_next(\"company_code\")\n",
    "            for ctext in c.descendants:\n",
    "                tk.Label(app,text=\"Company Code: \").place(x=150, y=340)\n",
    "                tk.Label(app,text=ctext).place(x=250, y=340)\n",
    "                c = b.find_next(\"journey_time\")\n",
    "                for jtext in c.descendants:\n",
    "                    tk.Label(app,text=\"Journey Time: \").place(x=150, y=360)\n",
    "                    tk.Label(app,text=jtext).place(x=250, y=360)\n",
    "                    c = b.find_next(\"loc_start_namee\")\n",
    "                    for lstext in c.descendants:\n",
    "                        tk.Label(app,text=\"Location Start: \").place(x=150, y=380)\n",
    "                        tk.Label(app,text=lstext).place(x=250, y=380)\n",
    "                        c = b.find_next(\"loc_end_namee\")\n",
    "                        for letext in c.descendants:\n",
    "                            tk.Label(app,text=\"Location End: \").place(x=150, y=400)\n",
    "                            tk.Label(app,text=letext).place(x=250, y=400)\n",
    "                            c = b.find_next(\"full_fare\")\n",
    "                            for ftext in c.descendants:\n",
    "                                tk.Label(app,text=\"Full Fare: \").place(x=150, y=420)\n",
    "                                tk.Label(app,text=ftext).place(x=250, y=420)\n",
    "    return \n",
    "\n",
    "    \n",
    "\n",
    "\n",
    "btn_function = tk.Button(app, text='Search', command=function)\n",
    "btn_function.place(x=420, y=250)\n",
    "                     "
   ]
  },
  {
   "cell_type": "code",
   "execution_count": 11,
   "metadata": {},
   "outputs": [],
   "source": [
    "def SuperAI():\n",
    "    tk.messagebox.showinfo(title='Welcome', message='How may I help you sir ? ')\n",
    "    return\n",
    "btn_search = tk.Button(app, text='Super AI (2019)', command=SuperAI)\n",
    "btn_search.place(x=500, y=250)\n"
   ]
  },
  {
   "cell_type": "code",
   "execution_count": 12,
   "metadata": {
    "scrolled": true
   },
   "outputs": [],
   "source": [
    "app.mainloop()"
   ]
  },
  {
   "cell_type": "code",
   "execution_count": null,
   "metadata": {
    "scrolled": true
   },
   "outputs": [],
   "source": [
    "\n",
    "\n",
    "\n"
   ]
  },
  {
   "cell_type": "code",
   "execution_count": 9,
   "metadata": {},
   "outputs": [],
   "source": []
  },
  {
   "cell_type": "code",
   "execution_count": null,
   "metadata": {
    "scrolled": true
   },
   "outputs": [],
   "source": []
  },
  {
   "cell_type": "code",
   "execution_count": null,
   "metadata": {},
   "outputs": [],
   "source": []
  },
  {
   "cell_type": "code",
   "execution_count": null,
   "metadata": {},
   "outputs": [],
   "source": []
  },
  {
   "cell_type": "code",
   "execution_count": 20,
   "metadata": {},
   "outputs": [],
   "source": []
  },
  {
   "cell_type": "code",
   "execution_count": null,
   "metadata": {},
   "outputs": [],
   "source": []
  }
 ],
 "metadata": {
  "kernelspec": {
   "display_name": "Python 3",
   "language": "python",
   "name": "python3"
  },
  "language_info": {
   "codemirror_mode": {
    "name": "ipython",
    "version": 3
   },
   "file_extension": ".py",
   "mimetype": "text/x-python",
   "name": "python",
   "nbconvert_exporter": "python",
   "pygments_lexer": "ipython3",
   "version": "3.7.3"
  }
 },
 "nbformat": 4,
 "nbformat_minor": 2
}
